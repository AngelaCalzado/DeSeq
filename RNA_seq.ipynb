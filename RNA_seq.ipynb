{
  "nbformat": 4,
  "nbformat_minor": 0,
  "metadata": {
    "colab": {
      "provenance": []
    },
    "kernelspec": {
      "name": "python3",
      "display_name": "Python 3"
    },
    "language_info": {
      "name": "python"
    }
  },
  "cells": [
    {
      "cell_type": "code",
      "source": [],
      "metadata": {
        "id": "wHb9dKUqMzJd"
      },
      "execution_count": null,
      "outputs": []
    },
    {
      "cell_type": "markdown",
      "source": [
        "# Analaisis RNAseq\n",
        "\n",
        "##Genome download"
      ],
      "metadata": {
        "id": "0cdh_bEDMEvq"
      }
    },
    {
      "cell_type": "code",
      "execution_count": null,
      "metadata": {
        "id": "rSPySCuXMBO5"
      },
      "outputs": [],
      "source": [
        "\n",
        "\n",
        "#!/bin/bash\n",
        "\n",
        "for chr in 1 2 3 4 5 6 7 8 9 10 11 12 13 14 15 16 17 18 19 20 MT X Y\n",
        "\n",
        "do\n",
        "\n",
        "echo Starting with chromosome ${chr}\n",
        "\n",
        "wget https://ftp.ensembl.org/pub/current_fasta/rattus_norvegicus/dna/Rattus_norvegicus.mRatBN7.2.dna.primary_assembly.${chr}.fa.gz\n",
        "cat Rattus_norvegicus.mRatBN7.2.dna.primary_assembly.${chr}.fa.gz >> Rattus_norvegicus.mRatBN7.2.dna.primary_assembly.chromosome.all.fa.gz\n",
        "echo Added the following bytes to general fasta:\n",
        "stat -c %s Rattus_norvegicus.mRatBN7.2.dna.primary_assembly.chromosome.all.fa.gz\n",
        "\n",
        "rm Rattus_norvegicus.mRatBN7.2.dna.primary_assembly.${chr}*\n",
        "\n",
        "echo Finishing with chromosome ${chr}\n",
        "\n",
        "done\n"
      ]
    },
    {
      "cell_type": "markdown",
      "source": [
        "Necesitamos la secuencia FASTA de referencia para poder comparar nuestras secuencias y poder identificar con qué genes se están alineando.\n",
        "Lo que hace este código es descargar la secuencia de referencia (wget) de la página web. Después con cat la abre y con >> concatena las secuencias de los distintos cromosomas en un único archivo general.\n",
        "stat -c %s lo que está haciendo es mostrar el número de bytes que se añaden al fichero al añadir la información de un nuevo cromosoma.\n",
        "El último echo me sirve para indicar que ya ha terminado con el cromosoma que sea.\n",
        "\n"
      ],
      "metadata": {
        "id": "ofkTEWjyNBlf"
      }
    },
    {
      "cell_type": "markdown",
      "source": [
        "## Descargar archivo de anotación"
      ],
      "metadata": {
        "id": "_E7sT7eoNuEO"
      }
    },
    {
      "cell_type": "code",
      "source": [
        "#!/bin/bash\n",
        "\n",
        "#Get .gtf file\n",
        "wget https://ftp.ensembl.org/pub/release-110/gtf/rattus_norvegicus/Rattus_norvegicus.mRatBN7.2.110.gtf.gz\n",
        "\n",
        "#Get .gff3 file\n",
        "wget https://ftp.ensembl.org/pub/release-110/gff3/rattus_norvegicus/Rattus_norvegicus.mRatBN7.2.110.gff3.gz\n"
      ],
      "metadata": {
        "id": "zI2m-sCqOE5W"
      },
      "execution_count": null,
      "outputs": []
    },
    {
      "cell_type": "markdown",
      "source": [
        "Estamos descargando el genoma de referencia de la rata noruega en formato GTF y GFF3 (aunque realmente sólo utilizamos el formato GTF para este experimento)"
      ],
      "metadata": {
        "id": "kY8Rkij_qrzI"
      }
    },
    {
      "cell_type": "markdown",
      "source": [
        "# FASTQ treatment"
      ],
      "metadata": {
        "id": "TYBfaJgNOF5V"
      }
    },
    {
      "cell_type": "markdown",
      "source": [
        "## Concatenación"
      ],
      "metadata": {
        "id": "1odSlubOd6sz"
      }
    },
    {
      "cell_type": "code",
      "source": [
        "#!/bin/bash\n",
        "tissue=$1\n",
        "sample=$2\n",
        "\n",
        "input_dir=${tissue}/FASTQ\n",
        "output_dir=${tissue}/FASTQ_concat\n",
        "whole_path=${input_dir}/${sample}\n",
        "\n",
        "echo Starting with ${sample} forward\n",
        "gunzip -c ${whole_path}/*_1.fastq.gz > ${output_dir}/${sample}_1.fastq\n",
        "\n",
        "echo Starting with ${sample} reverse\n",
        "gunzip -c ${whole_path}/*_2.fastq.gz > ${output_dir}/${sample}_2.fastq\n"
      ],
      "metadata": {
        "id": "8SVG3EECOXPu"
      },
      "execution_count": null,
      "outputs": []
    },
    {
      "cell_type": "markdown",
      "source": [
        "Como estoy utilizando el mismo script que Blanca tenemos la variable de tissue, pero si lo utilizara sólo para mí podría cambiarlo por mPFC. Después tenemos la variable de muestra, el directorio de entrada donde se especifica el tejido y el del output donde meterá las secuencias una vez concatenadas. El whole path está utilizando el directorio de entrada y la muestra en concreto.\n",
        "echo me indica con qué muestra ha empezado y la dirección forward.\n",
        "Gunzip lo que hace es descomprimir los archivos. > sobreescribe lo anterior, a diferencia de >> que añade al final. * me indica todo lo que, es decir, todo lo que se llame 1.fastq.gz lo va a concatenar. Por eso es muy importante estar dentro de la secuencia de la rata porque si no te va a concatenar secuencias de distintas ratas."
      ],
      "metadata": {
        "id": "IFn93cMdg38-"
      }
    },
    {
      "cell_type": "markdown",
      "source": [
        "# Preprocesamiento"
      ],
      "metadata": {
        "id": "yJVcf-DKOYDb"
      }
    },
    {
      "cell_type": "markdown",
      "source": [
        "## Control de calidad FASTQC"
      ],
      "metadata": {
        "id": "T8chfQz_Z65A"
      }
    },
    {
      "cell_type": "code",
      "source": [
        "#!/bin/bash\n",
        "\n",
        "#Para el CCC hay que cargar los 'modulos' o softwares que vais a usar en cada script\n",
        "module load fastqc/0.11.9\n",
        "tissue=$1\n",
        "\n",
        "#El argumento -t especifica el numero de trabajos que correr a la vez (threads)\n",
        "fastqc ${tissue}/FASTQ_concat/*fastq -t 20 -o ${tissue}/FASTQC\n"
      ],
      "metadata": {
        "id": "n_K6komsOcZi"
      },
      "execution_count": null,
      "outputs": []
    },
    {
      "cell_type": "markdown",
      "source": [
        "Una vez cargamos el modulo lo que hacemos es decirle que dentro de mPFC y de la carpeta de FASTQ_concat va a coger todo lo que acaba en fastq y va a especificar con -t 20 trabajos al mismo tiempo (en este caso nos interesa que sea así porque tenemos 40, 20 de cada tipo) el output lo va a guardar como mPFC/FASTQC"
      ],
      "metadata": {
        "id": "gXz72mx2jVPf"
      }
    },
    {
      "cell_type": "markdown",
      "source": [
        "## Alineamiento\n"
      ],
      "metadata": {
        "id": "8dwZGsQxahvO"
      }
    },
    {
      "cell_type": "markdown",
      "source": [
        "### Index genoma\n"
      ],
      "metadata": {
        "id": "apBzXaUManBD"
      }
    },
    {
      "cell_type": "code",
      "source": [
        "#!/bin/bash\n",
        "module load hisat2/2.1.0\n",
        "\n",
        "# unzippear archivo\n",
        "echo Unzipping\n",
        "gunzip Rattus_norvegicus.mRatBN7.2.dna.primary_assembly.chromosome.all.fa.gz\n",
        "\n",
        "# build index\n",
        "echo Starting index\n",
        "hisat2-build Rattus_norvegicus.mRatBN7.2.dna.primary_assembly.chromosome.all.fa g_rata\n"
      ],
      "metadata": {
        "id": "FLUgw2TFamsR"
      },
      "execution_count": null,
      "outputs": []
    },
    {
      "cell_type": "markdown",
      "source": [
        "Esto está generando un índice dentro de la secuencia de referencia para que luego el ordenador pueda trabajar dentro de un apartado de ese índice y no tenga que ir por todo el genoma de la rata"
      ],
      "metadata": {
        "id": "929nnL7wtsfR"
      }
    },
    {
      "cell_type": "markdown",
      "source": [
        "### Alineamiento de las muestras\n"
      ],
      "metadata": {
        "id": "QfmAnEOYasuS"
      }
    },
    {
      "cell_type": "code",
      "source": [
        "#!/bin/bash\n",
        "module load hisat2/2.2.1\n",
        "module load samtools/1.9\n",
        "\n",
        "#Primer argumento: tejido con el que se trabaja\n",
        "tissue=$1\n",
        "#Dependiendo del valor de tissue, que se use un sufijo u otro\n",
        "sufijo=\"\"\n",
        "\n",
        "if  [ \"$tissue\" == \"Talamo\" ]; then\n",
        "        sufijo=\"T\"\n",
        "elif [ \"$tissue\" == \"mPFC\" ]; then\n",
        "        sufijo=\"mPFC\"\n",
        "fi\n",
        "#Index del genoma: ver carpeta ref_genome\n",
        "\n",
        "#Alignment: como las muestras son de las mismas ratas, se hace un bucle con el nombre de cada una y lo que cambia es el tejido\n",
        "\n",
        "for index in 1.2 2.1 2.2 2.4 2.6 2.7 3.11 3.4 3.6 3.8 3.9 4.2 5.4 5.5 5.6 5.7 6.6 6.7 7.3 7.9\n",
        "do\n",
        "        sample=${index}${sufijo}\n",
        "        echo Starting with sample ${sample}\n",
        "        hisat2 -q --rna-strandness RF -k 1 -p 4 -x ref_genome/g_rata -1 ${tissue}/FASTQ_concat/${sample}_1.fastq -2 ${tissue}/FASTQ_concat/${sample}_2.fastq -S ${tissue}/alignment/${sample}_aligned.sam 2>> ${tissue}/summary_alignment.txt\n",
        "\n",
        "        echo Getting into samtools, sample ${sample}\n",
        "        samtools view -@ 4 -b ${tissue}/alignment/${sample}_aligned.sam -o ${tissue}/alignment/${sample}_aligned.bam\n",
        "        samtools sort -@ 4 -o alignment/${sample}_sorted.bam alignment/${sample}_aligned.bam\n",
        "        samtools index ${tissue}/alignment/${sample}_sorted.bam\n",
        "        echo Finishing with sample ${sample}\n",
        "done\n",
        "\n",
        "\n"
      ],
      "metadata": {
        "id": "q1gi2usHasAx"
      },
      "execution_count": null,
      "outputs": []
    },
    {
      "cell_type": "markdown",
      "source": [
        "hista2 es un programa de alineamiento que al acabar me muestra un mensaje el porcentaje medio de muestras que han alineado con el genoma de referencia. -q me indica que el input está en formato FASTAQ, rna stradness RF me indica que tenemos reverse y forward, siendo los forward el -1 y el reverse el -2, -k me indica el número máximo con el que quiero que mi secuencia se alinee en el genoma de referencia. -p me indica que si el ordenador tiene varios procesadores se puede correr el alineamiento en paralelo para que sea más rápido. -x es el nombre de base para el índice del genoma de referencia. 2>> lo que hace es añadir al final del fichero lo que está pasando, es decir, el fichero de errores. La diferencia que tiene con respecto a >> es que este comando lo que hace es añadir el output al final del fichero, no el archivo de errores.\n",
        "\n",
        "samtools es una herramienta que sirve para pasar de formato sam a formato bam para que ocupe menos espacio."
      ],
      "metadata": {
        "id": "M8XYdFN_wJ8u"
      }
    },
    {
      "cell_type": "markdown",
      "source": [
        "# Contaje"
      ],
      "metadata": {
        "id": "8tfDoWblrGJ0"
      }
    },
    {
      "cell_type": "code",
      "source": [
        "#!/bin/bash\n",
        "tissue=$1\n",
        "\n",
        "input_dir=${tissue}/alignment\n",
        "output_dir=${tissue}/counts\n",
        "\n",
        "sufijo=\"\"\n",
        "if [ \"$tissue\" == \"Talamo\" ]; then\n",
        "        sufijo=\"T\"\n",
        "elif [ \"$tissue\" == \"mPFC\" ]; then\n",
        "        sufijo=\"mPFC\"\n",
        "fi\n",
        "\n",
        "module load miniconda/3.7\n",
        "\n",
        "mkdir -p ${tissue}/counts\n",
        "for index in 1.2 2.1 2.2 2.4 2.6 2.7 3.11 3.4 3.6 3.8 3.9 4.2 5.4 5.5 5.6 5.7 6.6 6.7 7.3 7.9\n",
        "do\n",
        "        sample=${index}${sufijo}\n",
        "        echo Starting with sample ${sample}\n",
        "        htseq-count -f bam -r pos -m intersection-strict --stranded reverse --minaqual 1 -t gene --idattr gene_id ${input_dir}/${sample}_sorted.bam ./ref_genome/Rattus_norvegicus.mRatBN7.2.110.gtf.gz > ${output_dir}/${sample}.tsv\n",
        "        echo Finished with sample ${sample}\n",
        "done"
      ],
      "metadata": {
        "id": "uU3XKVoXrLud"
      },
      "execution_count": null,
      "outputs": []
    }
  ]
}